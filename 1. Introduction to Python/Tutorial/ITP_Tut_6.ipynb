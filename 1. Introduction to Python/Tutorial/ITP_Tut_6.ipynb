{
  "nbformat": 4,
  "nbformat_minor": 0,
  "metadata": {
    "colab": {
      "provenance": [],
      "authorship_tag": "ABX9TyO0s0D2FUTlhCQTUKVdY6Vx",
      "include_colab_link": true
    },
    "kernelspec": {
      "name": "python3",
      "display_name": "Python 3"
    },
    "language_info": {
      "name": "python"
    }
  },
  "cells": [
    {
      "cell_type": "markdown",
      "metadata": {
        "id": "view-in-github",
        "colab_type": "text"
      },
      "source": [
        "<a href=\"https://colab.research.google.com/github/hirak214/100DaysOfPyChallange/blob/main/1.%20Introduction%20to%20Python/Tutorial/ITP_Tut_6.ipynb\" target=\"_parent\"><img src=\"https://colab.research.google.com/assets/colab-badge.svg\" alt=\"Open In Colab\"/></a>"
      ]
    },
    {
      "cell_type": "markdown",
      "source": [
        "## Introduction to Python - Tutorial\n"
      ],
      "metadata": {
        "id": "D57UrolE_tXF"
      }
    },
    {
      "cell_type": "markdown",
      "source": [
        "### Loops"
      ],
      "metadata": {
        "id": "vGZoKoyb_9Z6"
      }
    },
    {
      "cell_type": "markdown",
      "source": [
        "---"
      ],
      "metadata": {
        "id": "matz-6zFAAAD"
      }
    },
    {
      "cell_type": "markdown",
      "source": [
        "### Write a program to find the sum of all numbers from 1 to 10 using a for loop."
      ],
      "metadata": {
        "id": "x8dstRIi_6Fq"
      }
    },
    {
      "cell_type": "code",
      "execution_count": null,
      "metadata": {
        "id": "zqf1LKGe_q2k"
      },
      "outputs": [],
      "source": []
    }
  ]
}