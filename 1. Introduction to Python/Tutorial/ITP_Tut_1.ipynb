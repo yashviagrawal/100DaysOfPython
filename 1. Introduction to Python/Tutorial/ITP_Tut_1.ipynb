{
  "nbformat": 4,
  "nbformat_minor": 0,
  "metadata": {
    "colab": {
      "provenance": [],
      "authorship_tag": "ABX9TyOCrAR8uQHrrVZsst//CaS+",
      "include_colab_link": true
    },
    "kernelspec": {
      "name": "python3",
      "display_name": "Python 3"
    },
    "language_info": {
      "name": "python"
    }
  },
  "cells": [
    {
      "cell_type": "markdown",
      "metadata": {
        "id": "view-in-github",
        "colab_type": "text"
      },
      "source": [
        "<a href=\"https://colab.research.google.com/github/hirak214/100DaysOfPyChallange/blob/main/1.%20Introduction%20to%20Python/Tutorial/ITP_Tut_1.ipynb\" target=\"_parent\"><img src=\"https://colab.research.google.com/assets/colab-badge.svg\" alt=\"Open In Colab\"/></a>"
      ]
    },
    {
      "cell_type": "markdown",
      "source": [
        "## Introduction to Python - Tutorial\n"
      ],
      "metadata": {
        "id": "D57UrolE_tXF"
      }
    },
    {
      "cell_type": "markdown",
      "source": [
        "### Data Type in Python"
      ],
      "metadata": {
        "id": "vGZoKoyb_9Z6"
      }
    },
    {
      "cell_type": "markdown",
      "source": [
        "---"
      ],
      "metadata": {
        "id": "matz-6zFAAAD"
      }
    },
    {
      "cell_type": "markdown",
      "source": [
        "Create a variable of int and string and perform operations."
      ],
      "metadata": {
        "id": "x8dstRIi_6Fq"
      }
    },
    {
      "cell_type": "code",
      "execution_count": null,
      "metadata": {
        "id": "zqf1LKGe_q2k"
      },
      "outputs": [],
      "source": []
    }
  ]
}